{
 "cells": [
  {
   "cell_type": "code",
   "execution_count": 1,
   "metadata": {},
   "outputs": [],
   "source": [
    "# importing the data that would be used\n",
    "from tensorflow.keras.datasets import reuters"
   ]
  },
  {
   "cell_type": "code",
   "execution_count": 2,
   "metadata": {},
   "outputs": [],
   "source": [
    "# loading the data to arrays\n",
    "(train_data, train_labels),(test_data, test_labels) = reuters.load_data(num_words=10000)"
   ]
  },
  {
   "cell_type": "code",
   "execution_count": 3,
   "metadata": {},
   "outputs": [
    {
     "data": {
      "text/plain": [
       "8982"
      ]
     },
     "execution_count": 3,
     "metadata": {},
     "output_type": "execute_result"
    }
   ],
   "source": [
    "# checking the length of the data \n",
    "len(train_data)"
   ]
  },
  {
   "cell_type": "code",
   "execution_count": 4,
   "metadata": {},
   "outputs": [
    {
     "data": {
      "text/plain": [
       "2246"
      ]
     },
     "execution_count": 4,
     "metadata": {},
     "output_type": "execute_result"
    }
   ],
   "source": [
    "# checking the length of the test data\n",
    "len(test_data)"
   ]
  },
  {
   "cell_type": "code",
   "execution_count": 5,
   "metadata": {},
   "outputs": [
    {
     "data": {
      "text/plain": [
       "[1,\n",
       " 245,\n",
       " 273,\n",
       " 207,\n",
       " 156,\n",
       " 53,\n",
       " 74,\n",
       " 160,\n",
       " 26,\n",
       " 14,\n",
       " 46,\n",
       " 296,\n",
       " 26,\n",
       " 39,\n",
       " 74,\n",
       " 2979,\n",
       " 3554,\n",
       " 14,\n",
       " 46,\n",
       " 4689,\n",
       " 4329,\n",
       " 86,\n",
       " 61,\n",
       " 3499,\n",
       " 4795,\n",
       " 14,\n",
       " 61,\n",
       " 451,\n",
       " 4329,\n",
       " 17,\n",
       " 12]"
      ]
     },
     "execution_count": 5,
     "metadata": {},
     "output_type": "execute_result"
    }
   ],
   "source": [
    "# checking the data contents\n",
    "train_data[10]"
   ]
  },
  {
   "cell_type": "code",
   "execution_count": 6,
   "metadata": {},
   "outputs": [
    {
     "data": {
      "text/plain": [
       "3"
      ]
     },
     "execution_count": 6,
     "metadata": {},
     "output_type": "execute_result"
    }
   ],
   "source": [
    "train_labels[10]"
   ]
  },
  {
   "cell_type": "code",
   "execution_count": 7,
   "metadata": {},
   "outputs": [],
   "source": [
    "# decoding the data if you need to see the actual words\n",
    "word_index = reuters.get_word_index()\n",
    "reverse_word_index = dict([(value, key) for (key, value) in word_index.items()])\n",
    "decoded_newswire = ' '.join([reverse_word_index.get(i - 3, '?') for i in train_data[0]])"
   ]
  },
  {
   "cell_type": "code",
   "execution_count": 8,
   "metadata": {},
   "outputs": [
    {
     "data": {
      "text/plain": [
       "'? ? ? said as a result of its december acquisition of space co it expects earnings per share in 1987 of 1 15 to 1 30 dlrs per share up from 70 cts in 1986 the company said pretax net should rise to nine to 10 mln dlrs from six mln dlrs in 1986 and rental operation revenues to 19 to 22 mln dlrs from 12 5 mln dlrs it said cash flow per share this year should be 2 50 to three dlrs reuter 3'"
      ]
     },
     "execution_count": 8,
     "metadata": {},
     "output_type": "execute_result"
    }
   ],
   "source": [
    "decoded_newswire"
   ]
  },
  {
   "cell_type": "code",
   "execution_count": 9,
   "metadata": {},
   "outputs": [],
   "source": [
    "# vectorizing the data\n",
    "import numpy as np\n",
    "\n",
    "def vectorize_sequences(sequences, dimension=10000):\n",
    "    results = np.zeros((len(sequences), dimension))\n",
    "    for i, sequence in enumerate(sequences):\n",
    "        results[i, sequence] = 1\n",
    "    return results\n",
    "\n",
    "x_train = vectorize_sequences(train_data)\n",
    "y_test = vectorize_sequences(test_data)"
   ]
  },
  {
   "cell_type": "code",
   "execution_count": 12,
   "metadata": {},
   "outputs": [],
   "source": [
    "from tensorflow.keras.utils import to_categorical\n",
    "# one hot encoding the data\n",
    "def to_one_hot(labels, dimension=46):\n",
    "    results = np.zeros((len(labels), dimension))\n",
    "    for i, label in enumerate(labels):\n",
    "        results[i, label] = 1\n",
    "    return results\n",
    "\n",
    "one_hot_train_labels = to_categorical(train_labels)\n",
    "one_hot_test_labels = to_categorical(test_labels)"
   ]
  },
  {
   "cell_type": "code",
   "execution_count": 17,
   "metadata": {},
   "outputs": [
    {
     "data": {
      "text/plain": [
       "array([[0., 0., 0., ..., 0., 0., 0.],\n",
       "       [0., 0., 0., ..., 0., 0., 0.],\n",
       "       [0., 1., 0., ..., 0., 0., 0.],\n",
       "       ...,\n",
       "       [0., 0., 0., ..., 0., 0., 0.],\n",
       "       [0., 0., 0., ..., 0., 0., 0.],\n",
       "       [0., 0., 0., ..., 0., 0., 0.]], dtype=float32)"
      ]
     },
     "execution_count": 17,
     "metadata": {},
     "output_type": "execute_result"
    }
   ],
   "source": [
    "one_hot_test_labels"
   ]
  },
  {
   "cell_type": "code",
   "execution_count": 13,
   "metadata": {},
   "outputs": [],
   "source": [
    "# designing the model\n",
    "from tensorflow.keras import models\n",
    "from tensorflow.keras import layers\n",
    "\n",
    "model = models.Sequential()\n",
    "model.add(layers.Dense(64, activation='relu', input_shape=(10000,)))\n",
    "model.add(layers.Dense(64, activation='relu'))\n",
    "model.add(layers.Dense(46, activation='softmax'))"
   ]
  },
  {
   "cell_type": "code",
   "execution_count": 14,
   "metadata": {},
   "outputs": [],
   "source": [
    "# compiling the model\n",
    "model.compile(optimizer='rmsprop', loss='categorical_crossentropy', metrics=['accuracy'])"
   ]
  },
  {
   "cell_type": "code",
   "execution_count": 15,
   "metadata": {},
   "outputs": [],
   "source": [
    "# setting aside samples for validating with our model\n",
    "x_val = x_train[:1000]\n",
    "partial_x_train = x_train[1000:]\n",
    "\n",
    "y_val = one_hot_test_labels[:1000]\n",
    "partial_y_train = one_hot_train_labels[1000:]"
   ]
  },
  {
   "cell_type": "code",
   "execution_count": 16,
   "metadata": {},
   "outputs": [
    {
     "name": "stdout",
     "output_type": "stream",
     "text": [
      "Epoch 1/20\n",
      "16/16 [==============================] - 2s 95ms/step - loss: 2.6440 - accuracy: 0.5065 - val_loss: 3.0809 - val_accuracy: 0.2490\n",
      "Epoch 2/20\n",
      "16/16 [==============================] - 1s 84ms/step - loss: 1.4113 - accuracy: 0.7081 - val_loss: 3.6045 - val_accuracy: 0.2230\n",
      "Epoch 3/20\n",
      "16/16 [==============================] - 1s 79ms/step - loss: 1.0448 - accuracy: 0.7701 - val_loss: 3.9460 - val_accuracy: 0.2010\n",
      "Epoch 4/20\n",
      "16/16 [==============================] - 1s 75ms/step - loss: 0.8234 - accuracy: 0.8197 - val_loss: 4.3703 - val_accuracy: 0.1970\n",
      "Epoch 5/20\n",
      "16/16 [==============================] - 1s 76ms/step - loss: 0.6569 - accuracy: 0.8586 - val_loss: 4.5180 - val_accuracy: 0.2050\n",
      "Epoch 6/20\n",
      "16/16 [==============================] - 1s 77ms/step - loss: 0.5272 - accuracy: 0.8872 - val_loss: 4.7630 - val_accuracy: 0.1980\n",
      "Epoch 7/20\n",
      "16/16 [==============================] - 1s 78ms/step - loss: 0.4222 - accuracy: 0.9110 - val_loss: 5.1325 - val_accuracy: 0.1970\n",
      "Epoch 8/20\n",
      "16/16 [==============================] - 1s 81ms/step - loss: 0.3421 - accuracy: 0.9280 - val_loss: 5.2807 - val_accuracy: 0.2090\n",
      "Epoch 9/20\n",
      "16/16 [==============================] - 1s 77ms/step - loss: 0.2860 - accuracy: 0.9361 - val_loss: 5.5420 - val_accuracy: 0.2120\n",
      "Epoch 10/20\n",
      "16/16 [==============================] - 1s 78ms/step - loss: 0.2411 - accuracy: 0.9426 - val_loss: 5.8797 - val_accuracy: 0.2000\n",
      "Epoch 11/20\n",
      "16/16 [==============================] - 1s 77ms/step - loss: 0.2115 - accuracy: 0.9491 - val_loss: 5.9426 - val_accuracy: 0.1990\n",
      "Epoch 12/20\n",
      "16/16 [==============================] - 1s 72ms/step - loss: 0.1833 - accuracy: 0.9519 - val_loss: 6.1580 - val_accuracy: 0.2030\n",
      "Epoch 13/20\n",
      "16/16 [==============================] - 1s 74ms/step - loss: 0.1659 - accuracy: 0.9534 - val_loss: 6.4213 - val_accuracy: 0.2020\n",
      "Epoch 14/20\n",
      "16/16 [==============================] - 1s 74ms/step - loss: 0.1496 - accuracy: 0.9538 - val_loss: 6.7997 - val_accuracy: 0.2010\n",
      "Epoch 15/20\n",
      "16/16 [==============================] - 1s 79ms/step - loss: 0.1409 - accuracy: 0.9555 - val_loss: 6.8453 - val_accuracy: 0.2030\n",
      "Epoch 16/20\n",
      "16/16 [==============================] - 1s 75ms/step - loss: 0.1281 - accuracy: 0.9574 - val_loss: 6.9046 - val_accuracy: 0.2020\n",
      "Epoch 17/20\n",
      "16/16 [==============================] - 1s 72ms/step - loss: 0.1244 - accuracy: 0.9569 - val_loss: 7.1044 - val_accuracy: 0.2050\n",
      "Epoch 18/20\n",
      "16/16 [==============================] - 1s 76ms/step - loss: 0.1153 - accuracy: 0.9587 - val_loss: 7.3514 - val_accuracy: 0.2040\n",
      "Epoch 19/20\n",
      "16/16 [==============================] - 1s 75ms/step - loss: 0.1146 - accuracy: 0.9592 - val_loss: 7.3034 - val_accuracy: 0.2040\n",
      "Epoch 20/20\n",
      "16/16 [==============================] - 1s 79ms/step - loss: 0.1142 - accuracy: 0.9567 - val_loss: 7.4135 - val_accuracy: 0.2080\n"
     ]
    }
   ],
   "source": [
    "# fitting the model and returning the history\n",
    "history = model.fit(partial_x_train, partial_y_train, epochs=20, batch_size=512, validation_data=(x_val, y_val))"
   ]
  },
  {
   "cell_type": "code",
   "execution_count": null,
   "metadata": {},
   "outputs": [],
   "source": []
  },
  {
   "cell_type": "code",
   "execution_count": null,
   "metadata": {},
   "outputs": [],
   "source": [
    "# plotting train and validation loss\n",
    "import matplotlib.pyplot as plt\n",
    "\n",
    "loss = history.history['loss']\n",
    "val_loss = history.history['val_loss']\n",
    "\n",
    "epochs = range(1, len(loss) + 1)\n",
    "\n",
    "plt.plot(epochs, loss, 'bo', label=\"Training loss\")\n",
    "plt.plot(epochs, val_loss, 'b', label='Validation loss')\n",
    "plt.title('Training and validation loss')\n",
    "plt.xlabel('Epochs')\n",
    "plt.ylabel('Loss')\n",
    "plt.legend()\n",
    "\n",
    "plt.show()"
   ]
  },
  {
   "cell_type": "code",
   "execution_count": null,
   "metadata": {},
   "outputs": [],
   "source": [
    "# plotting the training and validation accuracy\n",
    "plt.clf()\n",
    "\n",
    "acc = history.history['accuracy']\n",
    "val_acc = history.history['val_accuracy']\n",
    "\n",
    "plt.plot(epochs, acc, 'bo', label='Training acc')\n",
    "plt.plot(epochs, val_acc, 'b', label='Validation acc')\n",
    "plt.title('Training and validation accuracy')\n",
    "plt.xlabel('Epochs')\n",
    "plt.ylabel('loss')\n",
    "plt.legend()\n",
    "\n",
    "plt.show()"
   ]
  },
  {
   "cell_type": "code",
   "execution_count": null,
   "metadata": {},
   "outputs": [],
   "source": []
  }
 ],
 "metadata": {
  "kernelspec": {
   "display_name": "Python 3",
   "language": "python",
   "name": "python3"
  },
  "language_info": {
   "codemirror_mode": {
    "name": "ipython",
    "version": 3
   },
   "file_extension": ".py",
   "mimetype": "text/x-python",
   "name": "python",
   "nbconvert_exporter": "python",
   "pygments_lexer": "ipython3",
   "version": "3.7.6"
  }
 },
 "nbformat": 4,
 "nbformat_minor": 4
}
